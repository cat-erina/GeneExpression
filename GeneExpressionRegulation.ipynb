{
  "nbformat": 4,
  "nbformat_minor": 0,
  "metadata": {
    "colab": {
      "name": "GeneExpressionRegulation.ipynb",
      "provenance": []
    },
    "kernelspec": {
      "name": "python3",
      "display_name": "Python 3"
    }
  },
  "cells": [
    {
      "cell_type": "code",
      "metadata": {
        "id": "U9WT8N0gY9TA"
      },
      "source": [
        "import scipy.stats as sc\n",
        "import pandas as pd\n",
        "import numpy as np\n",
        "import itertools\n",
        "import random"
      ],
      "execution_count": 1,
      "outputs": []
    },
    {
      "cell_type": "markdown",
      "metadata": {
        "id": "nGxrvUM-rTN4"
      },
      "source": [
        "# Loading data\n",
        "The csv files are also in this repository"
      ]
    },
    {
      "cell_type": "code",
      "metadata": {
        "id": "moyjR5y1f5vR"
      },
      "source": [
        "np.random.seed(666)\n",
        "ex_c =pd.read_csv('can.csv',index_col=0,sep=' ')\n",
        "exp_c = pd.DataFrame(ex_c)                          #cancer correlation matrix\n",
        "ex_n =pd.read_csv('nor.csv',index_col=0,sep=' ')\n",
        "n = pd.DataFrame(ex_n)                              #normal correlation matrix\n",
        "c = exp_c.iloc[:,0:58]                              #we use the same amount of samples for semplicity \n",
        "\n",
        "sani = np.corrcoef(n)\n",
        "adjSani = np.where(abs(sani)<0.7,0,1)               #adjacency matrices\n",
        "\n",
        "mali = np.corrcoef(c)\n",
        "adjMali = np.where(abs(mali)<0.7,0,1)\n",
        "\n",
        "best = np.sum(1-(adjMali==adjSani))                 #actual difference between cancerous and healthy adj matrices"
      ],
      "execution_count": null,
      "outputs": []
    },
    {
      "cell_type": "markdown",
      "metadata": {
        "id": "ebfN31w2rv76"
      },
      "source": [
        "# The genes we will try to normalize"
      ]
    },
    {
      "cell_type": "code",
      "metadata": {
        "id": "nhFvlyywf6Cm"
      },
      "source": [
        "hubs_d = [ \"ENSG00000065361\",\"ENSG00000138735\",\"ENSG00000143845\",\"ENSG00000005884\", \"ENSG00000133026\", \"ENSG00000144810\",\"ENSG00000267365\", \"ENSG00000105976\", \"ENSG00000060656\",\"ENSG00000183742\", \"ENSG00000088387\", \"ENSG00000245571\",\"ENSG00000012223\", \"ENSG00000139044\", \"ENSG00000109586\",\"ENSG00000167103\", \"ENSG00000181690\", \"ENSG00000101282\",\"ENSG00000115363\", \"ENSG00000112378\", \"ENSG00000006042\",\"ENSG00000139174\", \"ENSG00000141524\", \"ENSG00000204282\",\"ENSG00000124145\", \"ENSG00000135253\", \"ENSG00000162576\",\"ENSG00000015475\", \"ENSG00000143324\", \"ENSG00000141738\",\"ENSG00000103811\", \"ENSG00000073792\", \"ENSG00000104783\",\"ENSG00000080493\", \"ENSG00000144730\", \"ENSG00000117298\",\"ENSG00000196083\", \"ENSG00000272482\", \"ENSG00000125848\",\"ENSG00000254726\", \"ENSG00000197249\", \"ENSG00000066382\",\"ENSG00000185567\", \"ENSG00000013364\", \"ENSG00000058335\",\"ENSG00000133794\", \"ENSG00000136286\", \"ENSG00000198947\",\"ENSG00000102265\", \"ENSG00000151491\", \"ENSG00000161714\",\"ENSG00000135046\", \"ENSG00000117308\", \"ENSG00000134548\",\"ENSG00000138639\"]"
      ],
      "execution_count": null,
      "outputs": []
    },
    {
      "cell_type": "code",
      "metadata": {
        "id": "442Gcpk0f6Oc"
      },
      "source": [
        "best = 26652.    #starting difference\n",
        "s_v = 5\n",
        "counter = 0\n",
        "comb = list(itertools.combinations(hubs_d, 4))    #creating all possibile combination of four elements from the 55 hubs\n",
        "print(len(comb)).                                 #number of total combinations\n",
        "\n",
        "for i in range(len(comb)):\n",
        "  \n",
        "  c1 = c.copy()\n",
        "  \n",
        "  #s = random.choices(hubs_d, k=7)               #when trying combination of 6 ore more genes we had to sample\n",
        "                                                 # each time to avoid filling the RAM \n",
        "  s = comb[i]\n",
        "  \n",
        "  #taking the genes' normal values\n",
        "  n1 = c.loc[s[0]] \n",
        "  n2 = c.loc[s[1]]\n",
        "  n3 = c.loc[s[2]]\n",
        "  n4 = c.loc[s[3]]\n",
        "  #n5 = c.loc[s[4]]\n",
        "  #n6 = c.loc[s[5]] \n",
        "  #n7 = c.loc[s[6]]\n",
        "  #n8 = c.loc[s[7]]\n",
        "  \n",
        "  #changing the gene expression in the cancerous matrix with vector if their same healthy mean\n",
        "  c1.loc[s[0]] = np.random.normal(loc=np.mean(n1),scale= sd_v,size=58)\n",
        "  c1.loc[s[1]] = np.random.normal(loc=np.mean(n2),scale= sd_v,size=58) \n",
        "  c1.loc[s[2]] = np.random.normal(loc=np.mean(n3),scale= sd_v,size=58)\n",
        "  c1.loc[s[3]] = np.random.normal(loc=np.mean(n4),scale= sd_v,size=58)\n",
        "  c1.loc[s[4]] = np.random.normal(loc=np.mean(n5),scale= sd_v,size=58)\n",
        "  #c1.loc[s[5]] = np.random.normal(loc=np.mean(n6),scale= sd_v,size=58)\n",
        "  #c1.loc[s[6]] = np.random.normal(loc=np.mean(n7),scale= sd_v,size=58) \n",
        "  #c1.loc[s[7]] = np.random.normal(loc=np.mean(n8),scale= sd_v,size=58)\n",
        "  #c1.loc[s[8]] = np.random.normal(loc=np.mean(n9),scale= sd_v,size=58)\n",
        "  \n",
        "  #computing the new difference\n",
        "  mali1 = np.corrcoef(c1)\n",
        "  adjMali1 = np.where(abs(mali1) < 0.7,0,1)\n",
        "  diff = np.size(adjMali1==adjSani) - np.count_nonzero(adjMali1==adjSani)\n",
        "\n",
        "  if counter%1000 == 0:\n",
        "    print('Differenza all iterazione:', counter, \"/10000\",diff)\n",
        "\n",
        "  #storing the best new difference              \n",
        "  if diff < best:\n",
        "    best = diff\n",
        "    opt_genes = s\n",
        "    print('La migliore:',best)\n",
        "  \n",
        "  counter+=1\n",
        "\n",
        "print(\"Diff best:\",best)\n",
        "print(\"Geni:\", s)\n"
      ],
      "execution_count": null,
      "outputs": []
    }
  ]
}